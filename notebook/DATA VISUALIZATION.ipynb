{
 "cells": [
  {
   "cell_type": "markdown",
   "metadata": {},
   "source": [
    "## DATA VISUALIZATION\n",
    "\n",
    "This notebook collects plots and diagrams summarizing main outcomes from previous hourly price analysis"
   ]
  },
  {
   "cell_type": "markdown",
   "metadata": {},
   "source": [
    "### IMPORT LIBRARIES AND FILES"
   ]
  },
  {
   "cell_type": "code",
   "execution_count": 4,
   "metadata": {},
   "outputs": [],
   "source": [
    "# import libraries\n",
    "\n",
    "import matplotlib.pyplot as plt\n",
    "import seaborn as sns\n",
    "import numpy as np\n",
    "import pandas as pd\n",
    "import pickle"
   ]
  },
  {
   "cell_type": "code",
   "execution_count": 7,
   "metadata": {},
   "outputs": [],
   "source": [
    "# Pickle files\n",
    "\n",
    "saved_session_dir = '../saved_session/'\n",
    "persistence_model_results = 'persistence_results.pkl'\n",
    "lstm_model_results = 'lstm_results.pkl'"
   ]
  },
  {
   "cell_type": "code",
   "execution_count": 20,
   "metadata": {},
   "outputs": [],
   "source": [
    "# Load Pickle files\n",
    "\n",
    "with open(saved_session_dir + persistence_model_results, 'rb') as handle:\n",
    "    persistence_model_df = pickle.load(handle)\n",
    "    \n",
    "with open(saved_session_dir + lstm_model_results, 'rb') as handle:\n",
    "    lstm_model_df = pickle.load(handle)"
   ]
  },
  {
   "cell_type": "markdown",
   "metadata": {},
   "source": [
    "### PREPROCESSING\n",
    "\n",
    "* Remove lag time / hours ahead columns, they are no longer required\n",
    "* Rename rmse/mae columns to recognize which model they belong to\n",
    "* Merge in a single dataframe"
   ]
  },
  {
   "cell_type": "code",
   "execution_count": 21,
   "metadata": {},
   "outputs": [
    {
     "data": {
      "text/html": [
       "<div>\n",
       "<style scoped>\n",
       "    .dataframe tbody tr th:only-of-type {\n",
       "        vertical-align: middle;\n",
       "    }\n",
       "\n",
       "    .dataframe tbody tr th {\n",
       "        vertical-align: top;\n",
       "    }\n",
       "\n",
       "    .dataframe thead th {\n",
       "        text-align: right;\n",
       "    }\n",
       "</style>\n",
       "<table border=\"1\" class=\"dataframe\">\n",
       "  <thead>\n",
       "    <tr style=\"text-align: right;\">\n",
       "      <th></th>\n",
       "      <th>hour ahead</th>\n",
       "      <th>mae</th>\n",
       "      <th>rmse</th>\n",
       "    </tr>\n",
       "  </thead>\n",
       "  <tbody>\n",
       "    <tr>\n",
       "      <th>0</th>\n",
       "      <td>1</td>\n",
       "      <td>4.764139</td>\n",
       "      <td>10.955056</td>\n",
       "    </tr>\n",
       "    <tr>\n",
       "      <th>1</th>\n",
       "      <td>2</td>\n",
       "      <td>8.609175</td>\n",
       "      <td>17.238015</td>\n",
       "    </tr>\n",
       "    <tr>\n",
       "      <th>2</th>\n",
       "      <td>3</td>\n",
       "      <td>11.787077</td>\n",
       "      <td>21.827930</td>\n",
       "    </tr>\n",
       "    <tr>\n",
       "      <th>3</th>\n",
       "      <td>4</td>\n",
       "      <td>14.331333</td>\n",
       "      <td>25.125178</td>\n",
       "    </tr>\n",
       "    <tr>\n",
       "      <th>4</th>\n",
       "      <td>5</td>\n",
       "      <td>16.256312</td>\n",
       "      <td>27.389440</td>\n",
       "    </tr>\n",
       "  </tbody>\n",
       "</table>\n",
       "</div>"
      ],
      "text/plain": [
       "   hour ahead        mae       rmse\n",
       "0           1   4.764139  10.955056\n",
       "1           2   8.609175  17.238015\n",
       "2           3  11.787077  21.827930\n",
       "3           4  14.331333  25.125178\n",
       "4           5  16.256312  27.389440"
      ]
     },
     "execution_count": 21,
     "metadata": {},
     "output_type": "execute_result"
    }
   ],
   "source": [
    "# Preview\n",
    "persistence_model_df.head()"
   ]
  },
  {
   "cell_type": "code",
   "execution_count": 22,
   "metadata": {},
   "outputs": [
    {
     "data": {
      "text/html": [
       "<div>\n",
       "<style scoped>\n",
       "    .dataframe tbody tr th:only-of-type {\n",
       "        vertical-align: middle;\n",
       "    }\n",
       "\n",
       "    .dataframe tbody tr th {\n",
       "        vertical-align: top;\n",
       "    }\n",
       "\n",
       "    .dataframe thead th {\n",
       "        text-align: right;\n",
       "    }\n",
       "</style>\n",
       "<table border=\"1\" class=\"dataframe\">\n",
       "  <thead>\n",
       "    <tr style=\"text-align: right;\">\n",
       "      <th></th>\n",
       "      <th>lag</th>\n",
       "      <th>rmse</th>\n",
       "      <th>mae</th>\n",
       "    </tr>\n",
       "  </thead>\n",
       "  <tbody>\n",
       "    <tr>\n",
       "      <th>0</th>\n",
       "      <td>0</td>\n",
       "      <td>11.837159</td>\n",
       "      <td>4.340716</td>\n",
       "    </tr>\n",
       "    <tr>\n",
       "      <th>1</th>\n",
       "      <td>1</td>\n",
       "      <td>9.916233</td>\n",
       "      <td>3.991398</td>\n",
       "    </tr>\n",
       "    <tr>\n",
       "      <th>2</th>\n",
       "      <td>2</td>\n",
       "      <td>12.104911</td>\n",
       "      <td>5.798496</td>\n",
       "    </tr>\n",
       "    <tr>\n",
       "      <th>3</th>\n",
       "      <td>3</td>\n",
       "      <td>15.397185</td>\n",
       "      <td>8.228225</td>\n",
       "    </tr>\n",
       "    <tr>\n",
       "      <th>4</th>\n",
       "      <td>4</td>\n",
       "      <td>17.348745</td>\n",
       "      <td>9.715158</td>\n",
       "    </tr>\n",
       "  </tbody>\n",
       "</table>\n",
       "</div>"
      ],
      "text/plain": [
       "   lag       rmse       mae\n",
       "0    0  11.837159  4.340716\n",
       "1    1   9.916233  3.991398\n",
       "2    2  12.104911  5.798496\n",
       "3    3  15.397185  8.228225\n",
       "4    4  17.348745  9.715158"
      ]
     },
     "execution_count": 22,
     "metadata": {},
     "output_type": "execute_result"
    }
   ],
   "source": [
    "lstm_model_df.head()"
   ]
  },
  {
   "cell_type": "code",
   "execution_count": 23,
   "metadata": {},
   "outputs": [
    {
     "data": {
      "text/html": [
       "<div>\n",
       "<style scoped>\n",
       "    .dataframe tbody tr th:only-of-type {\n",
       "        vertical-align: middle;\n",
       "    }\n",
       "\n",
       "    .dataframe tbody tr th {\n",
       "        vertical-align: top;\n",
       "    }\n",
       "\n",
       "    .dataframe thead th {\n",
       "        text-align: right;\n",
       "    }\n",
       "</style>\n",
       "<table border=\"1\" class=\"dataframe\">\n",
       "  <thead>\n",
       "    <tr style=\"text-align: right;\">\n",
       "      <th></th>\n",
       "      <th>persistence_mae</th>\n",
       "      <th>persistence_rmse</th>\n",
       "      <th>lstm_rmse</th>\n",
       "      <th>lstm_mae</th>\n",
       "    </tr>\n",
       "  </thead>\n",
       "  <tbody>\n",
       "    <tr>\n",
       "      <th>0</th>\n",
       "      <td>4.764139</td>\n",
       "      <td>10.955056</td>\n",
       "      <td>11.837159</td>\n",
       "      <td>4.340716</td>\n",
       "    </tr>\n",
       "    <tr>\n",
       "      <th>1</th>\n",
       "      <td>8.609175</td>\n",
       "      <td>17.238015</td>\n",
       "      <td>9.916233</td>\n",
       "      <td>3.991398</td>\n",
       "    </tr>\n",
       "    <tr>\n",
       "      <th>2</th>\n",
       "      <td>11.787077</td>\n",
       "      <td>21.827930</td>\n",
       "      <td>12.104911</td>\n",
       "      <td>5.798496</td>\n",
       "    </tr>\n",
       "    <tr>\n",
       "      <th>3</th>\n",
       "      <td>14.331333</td>\n",
       "      <td>25.125178</td>\n",
       "      <td>15.397185</td>\n",
       "      <td>8.228225</td>\n",
       "    </tr>\n",
       "    <tr>\n",
       "      <th>4</th>\n",
       "      <td>16.256312</td>\n",
       "      <td>27.389440</td>\n",
       "      <td>17.348745</td>\n",
       "      <td>9.715158</td>\n",
       "    </tr>\n",
       "  </tbody>\n",
       "</table>\n",
       "</div>"
      ],
      "text/plain": [
       "   persistence_mae  persistence_rmse  lstm_rmse  lstm_mae\n",
       "0         4.764139         10.955056  11.837159  4.340716\n",
       "1         8.609175         17.238015   9.916233  3.991398\n",
       "2        11.787077         21.827930  12.104911  5.798496\n",
       "3        14.331333         25.125178  15.397185  8.228225\n",
       "4        16.256312         27.389440  17.348745  9.715158"
      ]
     },
     "execution_count": 23,
     "metadata": {},
     "output_type": "execute_result"
    }
   ],
   "source": [
    "# Drop time column and merge dataframes on Index\n",
    "\n",
    "lstm_model_df.drop('lag',axis=1,inplace=True)\n",
    "lstm_model_df.columns = ['lstm_rmse','lstm_mae']\n",
    "persistence_model_df.drop('hour ahead',axis=1,inplace=True)\n",
    "persistence_model_df.columns = ['persistence_mae','persistence_rmse']\n",
    "\n",
    "results_df = pd.concat([persistence_model_df,lstm_model_df], axis = 1)\n",
    "results_df.head()"
   ]
  },
  {
   "cell_type": "markdown",
   "metadata": {},
   "source": [
    "### PLOT RESULTS\n",
    "\n",
    "Compares LSTM model with a a baseline model using two error metrics (MAE and RMSE), varying forecast time horizon. "
   ]
  },
  {
   "cell_type": "code",
   "execution_count": 44,
   "metadata": {},
   "outputs": [
    {
     "data": {
      "image/png": "[encoded data removed]",
      "text/plain": [
       "<Figure size 1080x720 with 2 Axes>"
      ]
     },
     "metadata": {
      "needs_background": "light"
     },
     "output_type": "display_data"
    }
   ],
   "source": [
    "bar_width = 0.3\n",
    "bar_shift = 0.15\n",
    "\n",
    "\n",
    "f, ax = plt.subplots(2,1,figsize=(15,10))\n",
    "\n",
    "ax[0].bar(results_df.index-bar_shift, results_df.persistence_mae, width=bar_width, color='b', align='center')\n",
    "ax[0].bar(results_df.index+bar_shift, results_df.lstm_mae, width=bar_width, color='r', align='center')\n",
    "ax[0].legend(['persistence MAE','LSTM MAE'])\n",
    "ax[0].set_xticks(range(results_df.shape[0]))\n",
    "ax[0].set_xlabel('Forecast time horizon [h]')\n",
    "ax[0].set_ylabel('Mean Absolute Error')\n",
    "\n",
    "ax[1].bar(results_df.index-bar_shift, results_df.persistence_rmse, width=bar_width, color='b', align='center')\n",
    "ax[1].bar(results_df.index+bar_shift, results_df.lstm_rmse, width=bar_width, color='r', align='center')\n",
    "ax[1].legend(['persistence RMSE','LSTM RMSE'])\n",
    "ax[1].set_xticks(range(results_df.shape[0]))\n",
    "ax[1].set_xlabel('Forecast time horizon [h]')\n",
    "ax[1].set_ylabel('Root Mean Square Error')\n",
    "\n",
    "plt.show()"
   ]
  },
  {
   "cell_type": "code",
   "execution_count": null,
   "metadata": {},
   "outputs": [],
   "source": []
  }
 ],
 "metadata": {
  "kernelspec": {
   "display_name": "Python 3",
   "language": "python",
   "name": "python3"
  },
  "language_info": {
   "codemirror_mode": {
    "name": "ipython",
    "version": 3
   },
   "file_extension": ".py",
   "mimetype": "text/x-python",
   "name": "python",
   "nbconvert_exporter": "python",
   "pygments_lexer": "ipython3",
   "version": "3.6.7"
  }
 },
 "nbformat": 4,
 "nbformat_minor": 2
}
